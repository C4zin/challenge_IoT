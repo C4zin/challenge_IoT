{
 "cells": [
  {
   "cell_type": "markdown",
   "metadata": {},
   "source": [
    "## Grupo MotoTrack\n",
    "\n",
    "## integrantes:\n",
    "    \n",
    "    RM558317 - Cauã Sanches de Santana\n",
    "\n",
    "    RM556511 - Angello Turano da Costa\n",
    "\n",
    "    RM558576 - Leonardo Bianchi"
   ]
  },
  {
   "cell_type": "markdown",
   "metadata": {},
   "source": [
    "## Solução: \n",
    "\n",
    "Sensores RFID (Radio Frequency Identification)\n",
    "Os sensores RFID oferecem uma solução mais eficaz para localização dentro de ambientes fechados, como depósitos e pátios. Eles funcionam de maneira diferente do GPS, usando etiquetas RFID nas motos e leitores RFID posicionados no pátio para rastrear a posição das motos.\n",
    "\n",
    "Como o RFID pode ser usado:\n",
    "Precisão: RFID oferece alta precisão em ambientes fechados, com a capacidade de determinar a posição das motos com uma margem de erro muito menor, em torno de 1 a 3 metros, dependendo da configuração dos leitores.\n",
    "\n",
    "Funcionamento: Cada moto teria um etiqueta RFID passiva ou ativa. As etiquetas passivas podem ser lidas por leitores de RFID instalados ao longo do depósito, enquanto as etiquetas ativas podem emitir sinais de forma mais autônoma. Quando uma moto se aproxima de um leitor, a posição da moto é registrada no sistema.\n",
    "\n",
    "Leitores em Posições Estratégicas: Para garantir uma cobertura completa do pátio, leitores de RFID seriam posicionados estrategicamente ao longo das áreas do depósito. A cada vez que uma moto passa por um leitor, a localização da moto é registrada automaticamente.\n",
    "\n",
    "Vantagens do RFID para a Localização das Motos:\n",
    "Alta Precisão em Ambientes Fechados: RFID é a melhor opção quando se trata de rastrear a posição exata de objetos dentro de um espaço fechado, como um pátio de motos.\n",
    "\n",
    "Escalabilidade: A instalação de leitores RFID no pátio pode ser feita de forma modular e escalável, conforme a necessidade de cobertura de área.\n",
    "\n",
    "Baixo Custo e Manutenção: Sensores RFID são mais baratos e têm baixa necessidade de manutenção em comparação com tecnologias como GPS, especialmente para ambientes internos."
   ]
  },
  {
   "cell_type": "code",
   "execution_count": null,
   "metadata": {
    "vscode": {
     "languageId": "plaintext"
    }
   },
   "outputs": [],
   "source": [
    "import time\n",
    "import random\n",
    "from collections import defaultdict\n",
    "\n",
    "# Definições dos leitores RFID distribuídos pelo pátio\n",
    "leitores = {\n",
    "    'L1 - Entrada': (0, 0),\n",
    "    'L2 - Setor A': (10, 0),\n",
    "    'L3 - Setor B': (0, 10),\n",
    "    'L4 - Saída': (10, 10)\n",
    "}\n",
    "\n",
    "# Lista das motos que estão no pátio\n",
    "motos = ['Moto1', 'Moto2', 'Moto3', 'Moto4']\n",
    "\n",
    "# Armazena o último ponto de leitura e horário para cada moto\n",
    "localizacao_motos = defaultdict(lambda: {'local': None, 'hora': None})\n",
    "\n",
    "def simular_leitura():\n",
    "    # Escolhe uma moto e um leitor aleatoriamente para simular passagem\n",
    "    moto = random.choice(motos)\n",
    "    leitor, coords = random.choice(list(leitores.items()))\n",
    "    agora = time.strftime('%H:%M:%S')\n",
    "\n",
    "    # Atualiza localização da moto\n",
    "    localizacao_motos[moto]['local'] = leitor\n",
    "    localizacao_motos[moto]['hora'] = agora\n",
    "\n",
    "    print(f\"[{agora}] {moto} detectada em {leitor} (Coordenadas: {coords})\")\n",
    "\n",
    "def mostrar_status():\n",
    "    print(\"\\nStatus atual das motos no pátio:\")\n",
    "    for moto, info in localizacao_motos.items():\n",
    "        local = info['local'] if info['local'] else 'Não detectada'\n",
    "        hora = info['hora'] if info['hora'] else '--:--:--'\n",
    "        print(f\" - {moto}: Última posição = {local} às {hora}\")\n",
    "    print(\"-\" * 40)\n",
    "\n",
    "def main():\n",
    "    print(\"Iniciando simulação avançada de RFID no pátio de motos...\\n\")\n",
    "    try:\n",
    "        while True:\n",
    "            simular_leitura()\n",
    "            mostrar_status()\n",
    "            time.sleep(5)\n",
    "    except KeyboardInterrupt:\n",
    "        print(\"\\nSimulação encerrada.\")\n",
    "\n",
    "if __name__ == \"__main__\":\n",
    "    main()\n",
    "\n"
   ]
  },
  {
   "cell_type": "markdown",
   "metadata": {},
   "source": []
  }
 ],
 "metadata": {
  "language_info": {
   "name": "python"
  }
 },
 "nbformat": 4,
 "nbformat_minor": 2
}
