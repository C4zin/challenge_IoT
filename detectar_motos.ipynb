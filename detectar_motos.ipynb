{
 "cells": [
  {
   "cell_type": "markdown",
   "metadata": {},
   "source": [
    "## Grupo MotoTrack\n",
    "\n",
    "## integrantes:\n",
    "    \n",
    "    RM558317 - Cauã Sanches de Santana\n",
    "\n",
    "    RM556511 - Angello Turano da Costa\n",
    "\n",
    "    RM558576 - Leonardo Bianchi"
   ]
  },
  {
   "cell_type": "markdown",
   "metadata": {},
   "source": [
    "## Solução: \n",
    "\n",
    "Sensores RFID (Radio Frequency Identification)\n",
    "Os sensores RFID oferecem uma solução mais eficaz para localização dentro de ambientes fechados, como depósitos e pátios. Eles funcionam de maneira diferente do GPS, usando etiquetas RFID nas motos e leitores RFID posicionados no pátio para rastrear a posição das motos.\n",
    "\n",
    "Como o RFID pode ser usado:\n",
    "Precisão: RFID oferece alta precisão em ambientes fechados, com a capacidade de determinar a posição das motos com uma margem de erro muito menor, em torno de 1 a 3 metros, dependendo da configuração dos leitores.\n",
    "\n",
    "Funcionamento: Cada moto teria um etiqueta RFID passiva ou ativa. As etiquetas passivas podem ser lidas por leitores de RFID instalados ao longo do depósito, enquanto as etiquetas ativas podem emitir sinais de forma mais autônoma. Quando uma moto se aproxima de um leitor, a posição da moto é registrada no sistema.\n",
    "\n",
    "Leitores em Posições Estratégicas: Para garantir uma cobertura completa do pátio, leitores de RFID seriam posicionados estrategicamente ao longo das áreas do depósito. A cada vez que uma moto passa por um leitor, a localização da moto é registrada automaticamente.\n",
    "\n",
    "Vantagens do RFID para a Localização das Motos:\n",
    "Alta Precisão em Ambientes Fechados: RFID é a melhor opção quando se trata de rastrear a posição exata de objetos dentro de um espaço fechado, como um pátio de motos.\n",
    "\n",
    "Escalabilidade: A instalação de leitores RFID no pátio pode ser feita de forma modular e escalável, conforme a necessidade de cobertura de área.\n",
    "\n",
    "Baixo Custo e Manutenção: Sensores RFID são mais baratos e têm baixa necessidade de manutenção em comparação com tecnologias como GPS, especialmente para ambientes internos."
   ]
  },
  {
   "cell_type": "markdown",
   "metadata": {},
   "source": [
    "##  1. Geração do Dataset Simulado com Dados de Motos da Mottu\n",
    "Este código simula um conjunto de dados fictício com 5.000 registros representando dispositivos Bluetooth acoplados a motos da Mottu. Cada entrada possui:\n",
    "\n",
    "Um identificador único (ex: BT-00001)\n",
    "\n",
    "Modelo da moto (ex: \"Mottu Sport\", \"Mottu E\", \"Mottu Pop\")\n",
    "\n",
    "Condição da moto (\"Nova\", \"Usada\", \"Manutenção\")\n",
    "\n",
    "Localização da moto em um dos cinco pátios da empresa\n",
    "\n",
    "A distribuição dos dados segue pesos realistas e ajustados por tipo de moto, sugerindo que modelos mais populares estejam mais frequentemente em determinados pátios ou condições específicas. O resultado final é salvo como um arquivo CSV chamado motos_dataset.csv.\n",
    "\n",
    "##"
   ]
  },
  {
   "cell_type": "code",
   "execution_count": null,
   "metadata": {
    "vscode": {
     "languageId": "plaintext"
    }
   },
   "outputs": [],
   "source": [
    "import pandas as pd\n",
    "import random\n",
    "\n",
    "# Listas de valores possíveis\n",
    "modelos = [\"Mottu Sport\", \"Mottu E\", \"Mottu Pop\"]\n",
    "condicoes = [\"Nova\", \"Usada\", \"Manutenção\"]\n",
    "patios = [\"Unidade Belém\", \"Unidade Tatuapé\", \"Unidade Santo Amaro\", \"Unidade Mooca\", \"Unidade Lapa\"]\n",
    "algoritmos_visao = [\"YOLOv5\", \"YOLOv8\", \"MobileNet-SSD\"]\n",
    "\n",
    "# Função para simular dados de visão computacional\n",
    "def gerar_dados_visao():\n",
    "    prob = random.random()\n",
    "    \n",
    "    if prob < 0.4:\n",
    "        modelo = \"Mottu Sport\"\n",
    "        condicao = random.choices(condicoes, weights=[0.7, 0.2, 0.1])[0]\n",
    "        patio = random.choices(patios, weights=[0.1, 0.1, 0.6, 0.1, 0.1])[0]\n",
    "    elif prob < 0.7:\n",
    "        modelo = \"Mottu E\"\n",
    "        condicao = random.choices(condicoes, weights=[0.2, 0.3, 0.5])[0]\n",
    "        patio = random.choices(patios, weights=[0.05, 0.1, 0.05, 0.7, 0.1])[0]\n",
    "    else:\n",
    "        modelo = \"Mottu Pop\"\n",
    "        condicao = random.choices(condicoes, weights=[0.1, 0.85, 0.05])[0]\n",
    "        patio = random.choices(patios, weights=[0.3, 0.2, 0.1, 0.1, 0.3])[0]\n",
    "\n",
    "    # Simular coordenadas X e Y dentro de um pátio de 100x100 metros\n",
    "    x_coord = round(random.uniform(0, 100), 2)\n",
    "    y_coord = round(random.uniform(0, 100), 2)\n",
    "\n",
    "    # Simular algoritmo usado e frame detectado\n",
    "    algoritmo = random.choice(algoritmos_visao)\n",
    "    frame_id = random.randint(1, 1000)\n",
    "\n",
    "    return modelo, condicao, patio, x_coord, y_coord, algoritmo, frame_id\n",
    "\n",
    "# Criar dataset com 5000 registros simulados\n",
    "n = 5000\n",
    "data = []\n",
    "for i in range(1, n + 1):\n",
    "    modelo, condicao, patio, x, y, algoritmo, frame = gerar_dados_visao()\n",
    "    data.append([f\"CAM-{i:05d}\", modelo, condicao, patio, x, y, algoritmo, frame])\n",
    "\n",
    "# Criar DataFrame e salvar em CSV\n",
    "df = pd.DataFrame(data, columns=[\"Identificador Visual\", \"Modelo\", \"Condição\", \"Pátio\", \"Coord_X\", \"Coord_Y\", \"Algoritmo_Visao\", \"Frame_ID\"])\n",
    "df.to_csv(\"motoTrack_dataset.csv\", index=False)\n",
    "print(\"CSV com dados simulados de visão computacional salvo como 'motoTrack_dataset.csv'\")"
   ]
  },
  {
   "cell_type": "markdown",
   "metadata": {},
   "source": [
    "## 2. Pré-processamento com LabelEncoder para Machine Learning\n",
    "Este trecho de código é responsável pelo tratamento dos dados categóricos contidos no dataset gerado:\n",
    "\n",
    "Aplica LabelEncoder para transformar os textos das colunas Modelo, Condição e Pátio em valores numéricos, permitindo que algoritmos de machine learning possam trabalhar com eles.\n",
    "\n",
    "Define as variáveis independentes (X) com os dados da condição e do pátio da moto, e a variável dependente (y) como o modelo da moto.\n",
    "\n",
    "Esse processo é fundamental para preparar os dados antes do treinamento do modelo de classificação.\n",
    "\n"
   ]
  },
  {
   "cell_type": "code",
   "execution_count": null,
   "metadata": {
    "vscode": {
     "languageId": "plaintext"
    }
   },
   "outputs": [],
   "source": [
    "# Reimportar pandas e carregar o novo dataset de visão computacional\n",
    "import pandas as pd\n",
    "from sklearn.preprocessing import LabelEncoder\n",
    "\n",
    "# Carregar dataset simulado de visão\n",
    "df = pd.read_csv(\"motos_visao_dataset.csv\")\n",
    "\n",
    "# Instanciar os LabelEncoders\n",
    "le_cond    = LabelEncoder()\n",
    "le_patio   = LabelEncoder()\n",
    "le_modelo  = LabelEncoder()\n",
    "le_alg     = LabelEncoder()\n",
    "\n",
    "# Ajustar e transformar cada coluna categórica\n",
    "df['Cond_Enc']   = le_cond.fit_transform( df['Condição'] )\n",
    "df['Patio_Enc']  = le_patio.fit_transform( df['Pátio'] )\n",
    "df['Modelo_Enc'] = le_modelo.fit_transform( df['Modelo'] )\n",
    "df['Alg_Enc']    = le_alg.fit_transform( df['Algoritmo_Visao'] )\n",
    "\n",
    "# Selecionar features e target\n",
    "# - Incluímos também Coord_X e Coord_Y para treinar um modelo que aprenda a posição a partir\n",
    "#   das características da moto, pátio e algoritmo de visão.\n",
    "X = df[['Cond_Enc', 'Patio_Enc', 'Alg_Enc', 'Coord_X', 'Coord_Y']]\n",
    "y = df['Modelo_Enc']\n",
    "\n",
    "# Exemplo: visualizar as primeiras linhas\n",
    "print(X.head())\n",
    "print(y[:5])\n"
   ]
  },
  {
   "cell_type": "markdown",
   "metadata": {},
   "source": [
    "##  3. Treinamento do Modelo com XGBoost\n",
    "Nesta etapa, os dados preparados são utilizados para treinar um modelo de classificação multi-classe com XGBoost, um dos algoritmos mais eficientes para esse tipo de tarefa:\n",
    "\n",
    "Os dados são divididos em treino (70%) e teste (30%).\n",
    "\n",
    "O modelo XGBClassifier é configurado com hiperparâmetros ajustados manualmente para melhor desempenho.\n",
    "\n",
    "Após o treinamento, o modelo realiza previsões com base nos dados de teste.\n",
    "\n",
    "A acurácia da previsão é calculada com accuracy_score, indicando o quão bem o modelo consegue identificar corretamente o modelo da moto com base no pátio e na condição."
   ]
  },
  {
   "cell_type": "code",
   "execution_count": null,
   "metadata": {
    "vscode": {
     "languageId": "plaintext"
    }
   },
   "outputs": [],
   "source": [
    "from sklearn.model_selection import train_test_split\n",
    "from xgboost import XGBClassifier\n",
    "from sklearn.metrics import accuracy_score\n",
    "\n",
    "# Dividir em treino e teste\n",
    "X_train, X_test, y_train, y_test = train_test_split(\n",
    "    X, y, test_size=0.3, random_state=42\n",
    ")\n",
    "\n",
    "# Instanciar o modelo com hiperparâmetros otimizados\n",
    "model = XGBClassifier(\n",
    "    use_label_encoder=False,\n",
    "    eval_metric='mlogloss',\n",
    "    max_depth=6,\n",
    "    learning_rate=0.1,\n",
    "    n_estimators=150,\n",
    "    random_state=42\n",
    ")\n",
    "\n",
    "# Treinar o modelo\n",
    "model.fit(X_train, y_train)\n",
    "\n",
    "# Fazer previsões\n",
    "y_pred = model.predict(X_test)\n",
    "\n",
    "# Calcular acurácia\n",
    "acc = accuracy_score(y_test, y_pred)\n",
    "print(f\"Acurácia no modelo com dados de visão computacional: {acc:.4f}\")"
   ]
  },
  {
   "cell_type": "markdown",
   "metadata": {},
   "source": [
    "## 4. Visualização com Matriz de Confusão \n",
    "Este código gera uma matriz de confusão visual, uma ferramenta essencial para avaliar o desempenho do modelo:\n",
    "\n",
    "Compara os valores previstos com os reais, mostrando onde o modelo acertou ou errou.\n",
    "\n",
    "A matriz é plotada com seaborn.heatmap() usando o esquema de cores preto e amarelo (\"cividis\"), que melhora a visualização e acessibilidade.\n",
    "\n",
    "Inclui títulos, rótulos e anotações personalizadas, com foco em clareza e estética.\n",
    "\n",
    "Essa visualização ajuda a entender quais modelos de motos estão sendo confundidos entre si pelo algoritmo.\n",
    "\n"
   ]
  },
  {
   "cell_type": "code",
   "execution_count": null,
   "metadata": {
    "vscode": {
     "languageId": "plaintext"
    }
   },
   "outputs": [],
   "source": [
    "import matplotlib.pyplot as plt\n",
    "import seaborn as sns\n",
    "from sklearn.metrics import confusion_matrix\n",
    "\n",
    "# Matriz de confusão\n",
    "cm = confusion_matrix(y_test, y_pred)\n",
    "labels = le_modelo.classes_\n",
    "\n",
    "# Plotar heatmap com cores preto e amarelo\n",
    "plt.figure(figsize=(9, 7))\n",
    "sns.heatmap(\n",
    "    cm,\n",
    "    annot=True,\n",
    "    fmt='d',\n",
    "    cmap='cividis',  # tons de amarelo e preto\n",
    "    linewidths=0.6,\n",
    "    linecolor='black',\n",
    "    xticklabels=labels,\n",
    "    yticklabels=labels,\n",
    "    annot_kws={\"size\": 14, \"weight\": \"bold\", \"color\": \"black\"}\n",
    ")\n",
    "\n",
    "# Títulos e rótulos\n",
    "plt.title('Matriz de Confusão — Previsão de Modelos de Motos', fontsize=16, pad=20, color='black')\n",
    "plt.xlabel('Modelo Previsto', fontsize=13, color='black')\n",
    "plt.ylabel('Modelo Real', fontsize=13, color='black')\n",
    "plt.xticks(fontsize=11, color='black')\n",
    "plt.yticks(fontsize=11, color='black')\n",
    "plt.tight_layout()\n",
    "plt.show()"
   ]
  }
 ],
 "metadata": {
  "language_info": {
   "name": "python"
  }
 },
 "nbformat": 4,
 "nbformat_minor": 2
}
