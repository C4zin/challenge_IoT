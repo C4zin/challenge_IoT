{
  "cells": [
    {
      "cell_type": "markdown",
      "id": "73db522a",
      "metadata": {
        "id": "73db522a"
      },
      "source": [
        "\n",
        "# MotoTrack Vision — YOLOv8 + ByteTrack (Colab)\n",
        "\n",
        "Este notebook detecta e **rastreia múltiplas motos** em vídeo quase em tempo real, com **YOLOv8** (Ultralytics) + **ByteTrack** (rastreio integrado).\n",
        "Você pode:\n",
        "- **Enviar um vídeo** (recomendado no Colab), **ou** gravar um clipe curto da sua webcam;\n",
        "- Rodar **apenas na classe “motorcycle”** (COCO) para foco no requisito;\n",
        "- **Exportar** o resultado em MP4 e visualizar no próprio notebook.\n",
        "\n",
        "> **Observação:** Colab não oferece acesso direto à webcam em tempo real como no desktop. O notebook inclui uma célula para gravar um clipe curto via webcam (JS) e processá-lo.\n"
      ]
    },
    {
      "cell_type": "code",
      "execution_count": 1,
      "id": "dd9711a0",
      "metadata": {
        "colab": {
          "base_uri": "https://localhost:8080/"
        },
        "id": "dd9711a0",
        "outputId": "2d20d360-5aa5-4404-b085-a7a0e22a0668"
      },
      "outputs": [
        {
          "output_type": "stream",
          "name": "stdout",
          "text": [
            "PyTorch CUDA disponível: False\n",
            "Ultralytics versão: 8.3.203\n",
            "Supervision versão: 0.21.0\n"
          ]
        }
      ],
      "source": [
        "\n",
        "#@title 🔧 Instalação das dependências (rodar uma vez)\n",
        "# Instalação com versões compatíveis\n",
        "!pip install -q \"numpy<2\" \\\n",
        "               ultralytics supervision==0.21.0 opencv-python-headless==4.10.0.84 \\\n",
        "               lapx==0.5.9 onnxruntime-gpu -U > /dev/null\n",
        "\n",
        "# Imports necessários\n",
        "import torch, cv2, os, sys, json, time, glob, shutil\n",
        "import numpy as np\n",
        "from pathlib import Path\n",
        "\n",
        "print(\"PyTorch CUDA disponível:\", torch.cuda.is_available())\n",
        "\n",
        "try:\n",
        "    import ultralytics\n",
        "    from ultralytics import YOLO\n",
        "    print(\"Ultralytics versão:\", ultralytics.__version__)\n",
        "except Exception as e:\n",
        "    print(\"Erro ao importar ultralytics:\", e)\n",
        "\n",
        "import supervision as sv\n",
        "print(\"Supervision versão:\", sv.__version__)\n",
        "\n"
      ]
    },
    {
      "cell_type": "code",
      "execution_count": 2,
      "id": "1d7d72b0",
      "metadata": {
        "id": "1d7d72b0",
        "colab": {
          "base_uri": "https://localhost:8080/"
        },
        "outputId": "1e267e99-ddd8-414c-cbfe-f64bd26cce1f"
      },
      "outputs": [
        {
          "output_type": "stream",
          "name": "stdout",
          "text": [
            "/bin/bash: line 1: nvidia-smi: command not found\n",
            "Sem GPU disponível no ambiente.\n"
          ]
        }
      ],
      "source": [
        "\n",
        "#@title 🔍 Info da GPU (opcional)\n",
        "!nvidia-smi || echo \"Sem GPU disponível no ambiente.\"\n"
      ]
    },
    {
      "cell_type": "code",
      "execution_count": 3,
      "id": "0d6f88cf",
      "metadata": {
        "colab": {
          "base_uri": "https://localhost:8080/"
        },
        "id": "0d6f88cf",
        "outputId": "96e2a3e5-f59d-4dd0-e3c0-7fbcc2ebe3bf"
      },
      "outputs": [
        {
          "output_type": "stream",
          "name": "stdout",
          "text": [
            "Classes do modelo: {0: 'person', 1: 'bicycle', 2: 'car', 3: 'motorcycle', 4: 'airplane', 5: 'bus', 6: 'train', 7: 'truck', 8: 'boat', 9: 'traffic light', 10: 'fire hydrant', 11: 'stop sign', 12: 'parking meter', 13: 'bench', 14: 'bird', 15: 'cat', 16: 'dog', 17: 'horse', 18: 'sheep', 19: 'cow', 20: 'elephant', 21: 'bear', 22: 'zebra', 23: 'giraffe', 24: 'backpack', 25: 'umbrella', 26: 'handbag', 27: 'tie', 28: 'suitcase', 29: 'frisbee', 30: 'skis', 31: 'snowboard', 32: 'sports ball', 33: 'kite', 34: 'baseball bat', 35: 'baseball glove', 36: 'skateboard', 37: 'surfboard', 38: 'tennis racket', 39: 'bottle', 40: 'wine glass', 41: 'cup', 42: 'fork', 43: 'knife', 44: 'spoon', 45: 'bowl', 46: 'banana', 47: 'apple', 48: 'sandwich', 49: 'orange', 50: 'broccoli', 51: 'carrot', 52: 'hot dog', 53: 'pizza', 54: 'donut', 55: 'cake', 56: 'chair', 57: 'couch', 58: 'potted plant', 59: 'bed', 60: 'dining table', 61: 'toilet', 62: 'tv', 63: 'laptop', 64: 'mouse', 65: 'remote', 66: 'keyboard', 67: 'cell phone', 68: 'microwave', 69: 'oven', 70: 'toaster', 71: 'sink', 72: 'refrigerator', 73: 'book', 74: 'clock', 75: 'vase', 76: 'scissors', 77: 'teddy bear', 78: 'hair drier', 79: 'toothbrush'}\n",
            "Classe 'motorcycle' existe? True\n",
            "ID(s) de 'motorcycle': [3]\n"
          ]
        }
      ],
      "source": [
        "\n",
        "#@title 📦 Carregar modelo YOLOv8\n",
        "# Escolha o tamanho do modelo: 'n', 's', 'm', 'l', 'x' (quanto maior, mais pesado/preciso)\n",
        "modelo = \"yolov8s.pt\"  #@param [\"yolov8n.pt\", \"yolov8s.pt\", \"yolov8m.pt\", \"yolov8l.pt\", \"yolov8x.pt\"]\n",
        "conf_thresh = 0.35  #@param {type:\"number\"}\n",
        "iou_thresh = 0.45   #@param {type:\"number\"}\n",
        "\n",
        "model = YOLO(modelo)\n",
        "names = model.names\n",
        "print(\"Classes do modelo:\", names)\n",
        "print(\"Classe 'motorcycle' existe?\", \"motorcycle\" in names.values())\n",
        "motocycle_class_ids = [k for k,v in names.items() if v == \"motorcycle\"]\n",
        "print(\"ID(s) de 'motorcycle':\", motocycle_class_ids)\n"
      ]
    },
    {
      "cell_type": "markdown",
      "id": "9a9eb07d",
      "metadata": {
        "id": "9a9eb07d"
      },
      "source": [
        "## 📤 Enviar um vídeo (recomendado)"
      ]
    },
    {
      "cell_type": "code",
      "execution_count": 4,
      "id": "2f90039e",
      "metadata": {
        "colab": {
          "base_uri": "https://localhost:8080/",
          "height": 125
        },
        "id": "2f90039e",
        "outputId": "355451c2-fa79-4ad7-9cd3-387274e2c6df"
      },
      "outputs": [
        {
          "output_type": "stream",
          "name": "stdout",
          "text": [
            "Envie um arquivo de vídeo (mp4, mov, avi, mkv...)\n"
          ]
        },
        {
          "output_type": "display_data",
          "data": {
            "text/plain": [
              "<IPython.core.display.HTML object>"
            ],
            "text/html": [
              "\n",
              "     <input type=\"file\" id=\"files-1dbf19c8-1ae1-4bad-b7da-c33fce667c89\" name=\"files[]\" multiple disabled\n",
              "        style=\"border:none\" />\n",
              "     <output id=\"result-1dbf19c8-1ae1-4bad-b7da-c33fce667c89\">\n",
              "      Upload widget is only available when the cell has been executed in the\n",
              "      current browser session. Please rerun this cell to enable.\n",
              "      </output>\n",
              "      <script>// Copyright 2017 Google LLC\n",
              "//\n",
              "// Licensed under the Apache License, Version 2.0 (the \"License\");\n",
              "// you may not use this file except in compliance with the License.\n",
              "// You may obtain a copy of the License at\n",
              "//\n",
              "//      http://www.apache.org/licenses/LICENSE-2.0\n",
              "//\n",
              "// Unless required by applicable law or agreed to in writing, software\n",
              "// distributed under the License is distributed on an \"AS IS\" BASIS,\n",
              "// WITHOUT WARRANTIES OR CONDITIONS OF ANY KIND, either express or implied.\n",
              "// See the License for the specific language governing permissions and\n",
              "// limitations under the License.\n",
              "\n",
              "/**\n",
              " * @fileoverview Helpers for google.colab Python module.\n",
              " */\n",
              "(function(scope) {\n",
              "function span(text, styleAttributes = {}) {\n",
              "  const element = document.createElement('span');\n",
              "  element.textContent = text;\n",
              "  for (const key of Object.keys(styleAttributes)) {\n",
              "    element.style[key] = styleAttributes[key];\n",
              "  }\n",
              "  return element;\n",
              "}\n",
              "\n",
              "// Max number of bytes which will be uploaded at a time.\n",
              "const MAX_PAYLOAD_SIZE = 100 * 1024;\n",
              "\n",
              "function _uploadFiles(inputId, outputId) {\n",
              "  const steps = uploadFilesStep(inputId, outputId);\n",
              "  const outputElement = document.getElementById(outputId);\n",
              "  // Cache steps on the outputElement to make it available for the next call\n",
              "  // to uploadFilesContinue from Python.\n",
              "  outputElement.steps = steps;\n",
              "\n",
              "  return _uploadFilesContinue(outputId);\n",
              "}\n",
              "\n",
              "// This is roughly an async generator (not supported in the browser yet),\n",
              "// where there are multiple asynchronous steps and the Python side is going\n",
              "// to poll for completion of each step.\n",
              "// This uses a Promise to block the python side on completion of each step,\n",
              "// then passes the result of the previous step as the input to the next step.\n",
              "function _uploadFilesContinue(outputId) {\n",
              "  const outputElement = document.getElementById(outputId);\n",
              "  const steps = outputElement.steps;\n",
              "\n",
              "  const next = steps.next(outputElement.lastPromiseValue);\n",
              "  return Promise.resolve(next.value.promise).then((value) => {\n",
              "    // Cache the last promise value to make it available to the next\n",
              "    // step of the generator.\n",
              "    outputElement.lastPromiseValue = value;\n",
              "    return next.value.response;\n",
              "  });\n",
              "}\n",
              "\n",
              "/**\n",
              " * Generator function which is called between each async step of the upload\n",
              " * process.\n",
              " * @param {string} inputId Element ID of the input file picker element.\n",
              " * @param {string} outputId Element ID of the output display.\n",
              " * @return {!Iterable<!Object>} Iterable of next steps.\n",
              " */\n",
              "function* uploadFilesStep(inputId, outputId) {\n",
              "  const inputElement = document.getElementById(inputId);\n",
              "  inputElement.disabled = false;\n",
              "\n",
              "  const outputElement = document.getElementById(outputId);\n",
              "  outputElement.innerHTML = '';\n",
              "\n",
              "  const pickedPromise = new Promise((resolve) => {\n",
              "    inputElement.addEventListener('change', (e) => {\n",
              "      resolve(e.target.files);\n",
              "    });\n",
              "  });\n",
              "\n",
              "  const cancel = document.createElement('button');\n",
              "  inputElement.parentElement.appendChild(cancel);\n",
              "  cancel.textContent = 'Cancel upload';\n",
              "  const cancelPromise = new Promise((resolve) => {\n",
              "    cancel.onclick = () => {\n",
              "      resolve(null);\n",
              "    };\n",
              "  });\n",
              "\n",
              "  // Wait for the user to pick the files.\n",
              "  const files = yield {\n",
              "    promise: Promise.race([pickedPromise, cancelPromise]),\n",
              "    response: {\n",
              "      action: 'starting',\n",
              "    }\n",
              "  };\n",
              "\n",
              "  cancel.remove();\n",
              "\n",
              "  // Disable the input element since further picks are not allowed.\n",
              "  inputElement.disabled = true;\n",
              "\n",
              "  if (!files) {\n",
              "    return {\n",
              "      response: {\n",
              "        action: 'complete',\n",
              "      }\n",
              "    };\n",
              "  }\n",
              "\n",
              "  for (const file of files) {\n",
              "    const li = document.createElement('li');\n",
              "    li.append(span(file.name, {fontWeight: 'bold'}));\n",
              "    li.append(span(\n",
              "        `(${file.type || 'n/a'}) - ${file.size} bytes, ` +\n",
              "        `last modified: ${\n",
              "            file.lastModifiedDate ? file.lastModifiedDate.toLocaleDateString() :\n",
              "                                    'n/a'} - `));\n",
              "    const percent = span('0% done');\n",
              "    li.appendChild(percent);\n",
              "\n",
              "    outputElement.appendChild(li);\n",
              "\n",
              "    const fileDataPromise = new Promise((resolve) => {\n",
              "      const reader = new FileReader();\n",
              "      reader.onload = (e) => {\n",
              "        resolve(e.target.result);\n",
              "      };\n",
              "      reader.readAsArrayBuffer(file);\n",
              "    });\n",
              "    // Wait for the data to be ready.\n",
              "    let fileData = yield {\n",
              "      promise: fileDataPromise,\n",
              "      response: {\n",
              "        action: 'continue',\n",
              "      }\n",
              "    };\n",
              "\n",
              "    // Use a chunked sending to avoid message size limits. See b/62115660.\n",
              "    let position = 0;\n",
              "    do {\n",
              "      const length = Math.min(fileData.byteLength - position, MAX_PAYLOAD_SIZE);\n",
              "      const chunk = new Uint8Array(fileData, position, length);\n",
              "      position += length;\n",
              "\n",
              "      const base64 = btoa(String.fromCharCode.apply(null, chunk));\n",
              "      yield {\n",
              "        response: {\n",
              "          action: 'append',\n",
              "          file: file.name,\n",
              "          data: base64,\n",
              "        },\n",
              "      };\n",
              "\n",
              "      let percentDone = fileData.byteLength === 0 ?\n",
              "          100 :\n",
              "          Math.round((position / fileData.byteLength) * 100);\n",
              "      percent.textContent = `${percentDone}% done`;\n",
              "\n",
              "    } while (position < fileData.byteLength);\n",
              "  }\n",
              "\n",
              "  // All done.\n",
              "  yield {\n",
              "    response: {\n",
              "      action: 'complete',\n",
              "    }\n",
              "  };\n",
              "}\n",
              "\n",
              "scope.google = scope.google || {};\n",
              "scope.google.colab = scope.google.colab || {};\n",
              "scope.google.colab._files = {\n",
              "  _uploadFiles,\n",
              "  _uploadFilesContinue,\n",
              "};\n",
              "})(self);\n",
              "</script> "
            ]
          },
          "metadata": {}
        },
        {
          "output_type": "stream",
          "name": "stdout",
          "text": [
            "Saving teste.mp4 to teste.mp4\n",
            "Arquivo original: teste.mp4\n",
            "Arquivo padronizado como: video_input.mp4\n"
          ]
        }
      ],
      "source": [
        "\n",
        "from google.colab import files\n",
        "import os, shutil\n",
        "\n",
        "print(\"Envie um arquivo de vídeo (mp4, mov, avi, mkv...)\")\n",
        "up = files.upload()\n",
        "\n",
        "# Pega o primeiro arquivo enviado (qualquer extensão/nome)\n",
        "uploaded_filename = next(iter(up))\n",
        "print(\"Arquivo original:\", uploaded_filename)\n",
        "\n",
        "# Define um nome fixo para usar no restante do notebook\n",
        "video_path = \"video_input.mp4\"\n",
        "\n",
        "# Copia/renomeia para garantir sempre o mesmo nome\n",
        "shutil.move(uploaded_filename, video_path)\n",
        "\n",
        "print(\"Arquivo padronizado como:\", video_path)\n"
      ]
    },
    {
      "cell_type": "markdown",
      "id": "bdea953d",
      "metadata": {
        "id": "bdea953d"
      },
      "source": [
        "## 🏍️ Detecção + Rastreamento (ByteTrack integrado)"
      ]
    },
    {
      "cell_type": "code",
      "execution_count": 5,
      "id": "77044faf",
      "metadata": {
        "colab": {
          "base_uri": "https://localhost:8080/"
        },
        "id": "77044faf",
        "outputId": "1fdbe213-2e1a-46cc-8197-ef1aca3a7ce4"
      },
      "outputs": [
        {
          "output_type": "stream",
          "name": "stdout",
          "text": [
            "WARNING ⚠️ \n",
            "inference results will accumulate in RAM unless `stream=True` is passed, causing potential out-of-memory\n",
            "errors for large sources or long-running streams and videos. See https://docs.ultralytics.com/modes/predict/ for help.\n",
            "\n",
            "Example:\n",
            "    results = model(source=..., stream=True)  # generator of Results objects\n",
            "    for r in results:\n",
            "        boxes = r.boxes  # Boxes object for bbox outputs\n",
            "        masks = r.masks  # Masks object for segment masks outputs\n",
            "        probs = r.probs  # Class probabilities for classification outputs\n",
            "\n",
            "Results saved to \u001b[1m/content/runs/moto_track/exp\u001b[0m\n",
            "Results saved to runs/moto_track/exp\n",
            "Saída: resultado_motos.mp4\n"
          ]
        }
      ],
      "source": [
        "#@title Rodar rastreamento apenas na classe \"motorcycle\" (FIX reprodução)\n",
        "from IPython.display import HTML\n",
        "import os, glob, shutil, sys, subprocess\n",
        "\n",
        "assert 'video_path' in globals() and video_path is not None, \"Nenhum vídeo foi definido. Envie um vídeo ou grave um clipe de webcam.\"\n",
        "output_path = \"resultado_motos.mp4\"\n",
        "\n",
        "# IDs da classe 'motorcycle'\n",
        "motorcycle_ids = [k for k, v in model.names.items() if v == \"motorcycle\"]\n",
        "if not motorcycle_ids:\n",
        "    raise RuntimeError(\"Classe 'motorcycle' não encontrada no modelo atual.\")\n",
        "\n",
        "# Tracking\n",
        "results = model.track(\n",
        "    source=video_path,\n",
        "    conf=conf_thresh,\n",
        "    iou=iou_thresh,\n",
        "    classes=motorcycle_ids,\n",
        "    tracker=\"bytetrack.yaml\",\n",
        "    save=True,\n",
        "    project=\"runs/moto_track\",\n",
        "    name=\"exp\",\n",
        "    exist_ok=True,\n",
        "    persist=True,\n",
        "    verbose=False\n",
        ")\n",
        "\n",
        "# Procurar o arquivo de saída mais recente (qualquer extensão comum de vídeo)\n",
        "exts = (\"*.mp4\",\"*.avi\",\"*.mov\",\"*.mkv\")\n",
        "cands = []\n",
        "for e in exts:\n",
        "    cands += glob.glob(os.path.join(\"runs/moto_track/exp\", e))\n",
        "if not cands:\n",
        "    raise RuntimeError(\"Nenhum arquivo de vídeo encontrado em runs/moto_track/exp.\")\n",
        "\n",
        "cands = sorted(cands, key=os.path.getmtime, reverse=True)\n",
        "latest = cands[0]\n",
        "latest_ext = os.path.splitext(latest)[1].lower()\n",
        "\n",
        "def convert_to_mp4(src, dst):\n",
        "    # Usa ffmpeg (já disponível no Colab) para garantir MP4/H.264 tocável no browser\n",
        "    cmd = [\"ffmpeg\",\"-y\",\"-hide_banner\",\"-loglevel\",\"error\",\"-i\", src,\n",
        "           \"-vcodec\",\"libx264\",\"-acodec\",\"aac\",\"-movflags\",\"+faststart\", dst]\n",
        "    subprocess.check_call(cmd)\n",
        "\n",
        "# Se já for mp4, apenas copie; senão, converta\n",
        "if latest_ext == \".mp4\":\n",
        "    shutil.copyfile(latest, output_path)\n",
        "else:\n",
        "    convert_to_mp4(latest, output_path)\n",
        "\n",
        "print(\"Results saved to runs/moto_track/exp\")\n",
        "print(\"Saída:\", output_path)\n",
        "\n"
      ]
    },
    {
      "cell_type": "markdown",
      "id": "2ab0a772",
      "metadata": {
        "id": "2ab0a772"
      },
      "source": [
        "## 📈 Contagem de objetos e estatísticas simples"
      ]
    },
    {
      "cell_type": "code",
      "execution_count": 6,
      "id": "62bd3757",
      "metadata": {
        "id": "62bd3757",
        "colab": {
          "base_uri": "https://localhost:8080/"
        },
        "outputId": "0ea21bdc-579b-4d2e-e5a5-89634ae2fc0b"
      },
      "outputs": [
        {
          "output_type": "stream",
          "name": "stdout",
          "text": [
            "Total de motos únicas rastreadas: 15\n"
          ]
        }
      ],
      "source": [
        "\n",
        "#@title Reprocessar para obter contagem total de rastros únicos\n",
        "import cv2, numpy as np\n",
        "from collections import defaultdict\n",
        "\n",
        "# Processa novamente (rápido) para extrair IDs dos rastros\n",
        "# Usamos stream=True para iterar os resultados sem salvar vídeo novamente\n",
        "track_ids = set()\n",
        "for r in model.track(\n",
        "    source=video_path,\n",
        "    conf=conf_thresh,\n",
        "    iou=iou_thresh,\n",
        "    classes=motorcycle_ids,\n",
        "    tracker=\"bytetrack.yaml\",\n",
        "    stream=True,\n",
        "    persist=True,\n",
        "    verbose=False\n",
        "):\n",
        "    if r.boxes.id is not None:\n",
        "        for tid in r.boxes.id.int().cpu().tolist():\n",
        "            track_ids.add(tid)\n",
        "\n",
        "print(f\"Total de motos únicas rastreadas: {len(track_ids)}\")\n"
      ]
    },
    {
      "cell_type": "markdown",
      "id": "b9de9ea7",
      "metadata": {
        "id": "b9de9ea7"
      },
      "source": [
        "\n",
        "## 💾 Baixar o resultado\n",
        "Execute a célula abaixo para baixar o MP4 com as detecções e IDs.\n"
      ]
    },
    {
      "cell_type": "code",
      "execution_count": 7,
      "id": "1e3c42a8",
      "metadata": {
        "id": "1e3c42a8",
        "colab": {
          "base_uri": "https://localhost:8080/",
          "height": 17
        },
        "outputId": "01f2f791-e8f9-4c3e-f939-a298cc174df0"
      },
      "outputs": [
        {
          "output_type": "display_data",
          "data": {
            "text/plain": [
              "<IPython.core.display.Javascript object>"
            ],
            "application/javascript": [
              "\n",
              "    async function download(id, filename, size) {\n",
              "      if (!google.colab.kernel.accessAllowed) {\n",
              "        return;\n",
              "      }\n",
              "      const div = document.createElement('div');\n",
              "      const label = document.createElement('label');\n",
              "      label.textContent = `Downloading \"${filename}\": `;\n",
              "      div.appendChild(label);\n",
              "      const progress = document.createElement('progress');\n",
              "      progress.max = size;\n",
              "      div.appendChild(progress);\n",
              "      document.body.appendChild(div);\n",
              "\n",
              "      const buffers = [];\n",
              "      let downloaded = 0;\n",
              "\n",
              "      const channel = await google.colab.kernel.comms.open(id);\n",
              "      // Send a message to notify the kernel that we're ready.\n",
              "      channel.send({})\n",
              "\n",
              "      for await (const message of channel.messages) {\n",
              "        // Send a message to notify the kernel that we're ready.\n",
              "        channel.send({})\n",
              "        if (message.buffers) {\n",
              "          for (const buffer of message.buffers) {\n",
              "            buffers.push(buffer);\n",
              "            downloaded += buffer.byteLength;\n",
              "            progress.value = downloaded;\n",
              "          }\n",
              "        }\n",
              "      }\n",
              "      const blob = new Blob(buffers, {type: 'application/binary'});\n",
              "      const a = document.createElement('a');\n",
              "      a.href = window.URL.createObjectURL(blob);\n",
              "      a.download = filename;\n",
              "      div.appendChild(a);\n",
              "      a.click();\n",
              "      div.remove();\n",
              "    }\n",
              "  "
            ]
          },
          "metadata": {}
        },
        {
          "output_type": "display_data",
          "data": {
            "text/plain": [
              "<IPython.core.display.Javascript object>"
            ],
            "application/javascript": [
              "download(\"download_7127c431-ba32-4fec-9029-c2d1d87adb0a\", \"resultado_motos.mp4\", 1481517)"
            ]
          },
          "metadata": {}
        }
      ],
      "source": [
        "\n",
        "from google.colab import files\n",
        "files.download(\"resultado_motos.mp4\")\n"
      ]
    },
    {
      "cell_type": "code",
      "source": [
        "from google.colab import files\n",
        "uploaded = files.upload()  # selecione o app.py (e requirements.txt se quiser)\n"
      ],
      "metadata": {
        "colab": {
          "base_uri": "https://localhost:8080/",
          "height": 73
        },
        "id": "Of9LVUhqXCyT",
        "outputId": "18e6508c-cf2f-4fe3-fe50-7b9aaa1087fd"
      },
      "id": "Of9LVUhqXCyT",
      "execution_count": 8,
      "outputs": [
        {
          "output_type": "display_data",
          "data": {
            "text/plain": [
              "<IPython.core.display.HTML object>"
            ],
            "text/html": [
              "\n",
              "     <input type=\"file\" id=\"files-a2074f74-9796-47e3-af11-20c20c5d21a9\" name=\"files[]\" multiple disabled\n",
              "        style=\"border:none\" />\n",
              "     <output id=\"result-a2074f74-9796-47e3-af11-20c20c5d21a9\">\n",
              "      Upload widget is only available when the cell has been executed in the\n",
              "      current browser session. Please rerun this cell to enable.\n",
              "      </output>\n",
              "      <script>// Copyright 2017 Google LLC\n",
              "//\n",
              "// Licensed under the Apache License, Version 2.0 (the \"License\");\n",
              "// you may not use this file except in compliance with the License.\n",
              "// You may obtain a copy of the License at\n",
              "//\n",
              "//      http://www.apache.org/licenses/LICENSE-2.0\n",
              "//\n",
              "// Unless required by applicable law or agreed to in writing, software\n",
              "// distributed under the License is distributed on an \"AS IS\" BASIS,\n",
              "// WITHOUT WARRANTIES OR CONDITIONS OF ANY KIND, either express or implied.\n",
              "// See the License for the specific language governing permissions and\n",
              "// limitations under the License.\n",
              "\n",
              "/**\n",
              " * @fileoverview Helpers for google.colab Python module.\n",
              " */\n",
              "(function(scope) {\n",
              "function span(text, styleAttributes = {}) {\n",
              "  const element = document.createElement('span');\n",
              "  element.textContent = text;\n",
              "  for (const key of Object.keys(styleAttributes)) {\n",
              "    element.style[key] = styleAttributes[key];\n",
              "  }\n",
              "  return element;\n",
              "}\n",
              "\n",
              "// Max number of bytes which will be uploaded at a time.\n",
              "const MAX_PAYLOAD_SIZE = 100 * 1024;\n",
              "\n",
              "function _uploadFiles(inputId, outputId) {\n",
              "  const steps = uploadFilesStep(inputId, outputId);\n",
              "  const outputElement = document.getElementById(outputId);\n",
              "  // Cache steps on the outputElement to make it available for the next call\n",
              "  // to uploadFilesContinue from Python.\n",
              "  outputElement.steps = steps;\n",
              "\n",
              "  return _uploadFilesContinue(outputId);\n",
              "}\n",
              "\n",
              "// This is roughly an async generator (not supported in the browser yet),\n",
              "// where there are multiple asynchronous steps and the Python side is going\n",
              "// to poll for completion of each step.\n",
              "// This uses a Promise to block the python side on completion of each step,\n",
              "// then passes the result of the previous step as the input to the next step.\n",
              "function _uploadFilesContinue(outputId) {\n",
              "  const outputElement = document.getElementById(outputId);\n",
              "  const steps = outputElement.steps;\n",
              "\n",
              "  const next = steps.next(outputElement.lastPromiseValue);\n",
              "  return Promise.resolve(next.value.promise).then((value) => {\n",
              "    // Cache the last promise value to make it available to the next\n",
              "    // step of the generator.\n",
              "    outputElement.lastPromiseValue = value;\n",
              "    return next.value.response;\n",
              "  });\n",
              "}\n",
              "\n",
              "/**\n",
              " * Generator function which is called between each async step of the upload\n",
              " * process.\n",
              " * @param {string} inputId Element ID of the input file picker element.\n",
              " * @param {string} outputId Element ID of the output display.\n",
              " * @return {!Iterable<!Object>} Iterable of next steps.\n",
              " */\n",
              "function* uploadFilesStep(inputId, outputId) {\n",
              "  const inputElement = document.getElementById(inputId);\n",
              "  inputElement.disabled = false;\n",
              "\n",
              "  const outputElement = document.getElementById(outputId);\n",
              "  outputElement.innerHTML = '';\n",
              "\n",
              "  const pickedPromise = new Promise((resolve) => {\n",
              "    inputElement.addEventListener('change', (e) => {\n",
              "      resolve(e.target.files);\n",
              "    });\n",
              "  });\n",
              "\n",
              "  const cancel = document.createElement('button');\n",
              "  inputElement.parentElement.appendChild(cancel);\n",
              "  cancel.textContent = 'Cancel upload';\n",
              "  const cancelPromise = new Promise((resolve) => {\n",
              "    cancel.onclick = () => {\n",
              "      resolve(null);\n",
              "    };\n",
              "  });\n",
              "\n",
              "  // Wait for the user to pick the files.\n",
              "  const files = yield {\n",
              "    promise: Promise.race([pickedPromise, cancelPromise]),\n",
              "    response: {\n",
              "      action: 'starting',\n",
              "    }\n",
              "  };\n",
              "\n",
              "  cancel.remove();\n",
              "\n",
              "  // Disable the input element since further picks are not allowed.\n",
              "  inputElement.disabled = true;\n",
              "\n",
              "  if (!files) {\n",
              "    return {\n",
              "      response: {\n",
              "        action: 'complete',\n",
              "      }\n",
              "    };\n",
              "  }\n",
              "\n",
              "  for (const file of files) {\n",
              "    const li = document.createElement('li');\n",
              "    li.append(span(file.name, {fontWeight: 'bold'}));\n",
              "    li.append(span(\n",
              "        `(${file.type || 'n/a'}) - ${file.size} bytes, ` +\n",
              "        `last modified: ${\n",
              "            file.lastModifiedDate ? file.lastModifiedDate.toLocaleDateString() :\n",
              "                                    'n/a'} - `));\n",
              "    const percent = span('0% done');\n",
              "    li.appendChild(percent);\n",
              "\n",
              "    outputElement.appendChild(li);\n",
              "\n",
              "    const fileDataPromise = new Promise((resolve) => {\n",
              "      const reader = new FileReader();\n",
              "      reader.onload = (e) => {\n",
              "        resolve(e.target.result);\n",
              "      };\n",
              "      reader.readAsArrayBuffer(file);\n",
              "    });\n",
              "    // Wait for the data to be ready.\n",
              "    let fileData = yield {\n",
              "      promise: fileDataPromise,\n",
              "      response: {\n",
              "        action: 'continue',\n",
              "      }\n",
              "    };\n",
              "\n",
              "    // Use a chunked sending to avoid message size limits. See b/62115660.\n",
              "    let position = 0;\n",
              "    do {\n",
              "      const length = Math.min(fileData.byteLength - position, MAX_PAYLOAD_SIZE);\n",
              "      const chunk = new Uint8Array(fileData, position, length);\n",
              "      position += length;\n",
              "\n",
              "      const base64 = btoa(String.fromCharCode.apply(null, chunk));\n",
              "      yield {\n",
              "        response: {\n",
              "          action: 'append',\n",
              "          file: file.name,\n",
              "          data: base64,\n",
              "        },\n",
              "      };\n",
              "\n",
              "      let percentDone = fileData.byteLength === 0 ?\n",
              "          100 :\n",
              "          Math.round((position / fileData.byteLength) * 100);\n",
              "      percent.textContent = `${percentDone}% done`;\n",
              "\n",
              "    } while (position < fileData.byteLength);\n",
              "  }\n",
              "\n",
              "  // All done.\n",
              "  yield {\n",
              "    response: {\n",
              "      action: 'complete',\n",
              "    }\n",
              "  };\n",
              "}\n",
              "\n",
              "scope.google = scope.google || {};\n",
              "scope.google.colab = scope.google.colab || {};\n",
              "scope.google.colab._files = {\n",
              "  _uploadFiles,\n",
              "  _uploadFilesContinue,\n",
              "};\n",
              "})(self);\n",
              "</script> "
            ]
          },
          "metadata": {}
        },
        {
          "output_type": "stream",
          "name": "stdout",
          "text": [
            "Saving app.py to app (1).py\n"
          ]
        }
      ]
    },
    {
      "cell_type": "code",
      "source": [
        "# ▶️ Subir Streamlit no Colab (sem ngrok) + diagnóstico 404\n",
        "import sys, os, time, importlib, subprocess, socket, textwrap\n",
        "\n",
        "APP_PATH = \"app.py\"      # ajuste se o seu arquivo tiver outro nome\n",
        "PORT = 8501\n",
        "\n",
        "def ensure(pkg, pip_name=None):\n",
        "    pip_name = pip_name or pkg\n",
        "    try:\n",
        "        importlib.import_module(pkg)\n",
        "        print(f\"[ok] {pkg} já instalado\")\n",
        "    except Exception:\n",
        "        print(f\"[instalando] {pip_name}\")\n",
        "        subprocess.check_call([sys.executable, \"-m\", \"pip\", \"install\", \"-q\", pip_name])\n",
        "\n",
        "ensure(\"streamlit\")\n",
        "ensure(\"requests\")\n",
        "\n",
        "# cria um app mínimo se não existir, só para validar a porta\n",
        "if not os.path.exists(APP_PATH):\n",
        "    print(f\"[warn] {APP_PATH} não encontrado; criando um app mínimo para teste.\")\n",
        "    with open(APP_PATH, \"w\", encoding=\"utf-8\") as f:\n",
        "        f.write(textwrap.dedent(\"\"\"\n",
        "        import streamlit as st\n",
        "        st.set_page_config(page_title=\"Hello Streamlit\", layout=\"wide\")\n",
        "        st.title(\"✅ Streamlit está rodando\")\n",
        "        st.write(\"Se você está vendo esta página, a porta e o proxy do Colab funcionaram.\")\n",
        "        \"\"\"))\n",
        "\n",
        "# encerra instâncias antigas, se houver\n",
        "try:\n",
        "    subprocess.call([\"pkill\", \"-f\", \"streamlit run\"])\n",
        "except Exception:\n",
        "    pass\n",
        "\n",
        "# inicia usando o Python do kernel (evita erro de PATH)\n",
        "logfile = \"/tmp/streamlit.log\"\n",
        "proc = subprocess.Popen([\n",
        "    sys.executable, \"-m\", \"streamlit\", \"run\", APP_PATH,\n",
        "    \"--server.port\", str(PORT),\n",
        "    \"--server.address\", \"0.0.0.0\",          # bind amplo\n",
        "    \"--server.headless\", \"true\",\n",
        "    \"--server.enableCORS\", \"false\",\n",
        "    \"--server.enableXsrfProtection\", \"false\",\n",
        "    \"--browser.gatherUsageStats\", \"false\",\n",
        "], stdout=open(logfile, \"w\"), stderr=subprocess.STDOUT)\n",
        "\n",
        "print(\"⏳ Iniciando Streamlit… aguardando disponibilidade da porta.\")\n",
        "\n",
        "# aguarda socket abrir e responder HTTP\n",
        "import requests\n",
        "def is_ready():\n",
        "    try:\n",
        "        r = requests.get(f\"http://127.0.0.1:{PORT}/_stcore/health\", timeout=0.8)\n",
        "        return r.status_code == 200\n",
        "    except Exception:\n",
        "        return False\n",
        "\n",
        "deadline = time.time() + 30  # até 30s\n",
        "ready = False\n",
        "while time.time() < deadline:\n",
        "    if is_ready():\n",
        "        ready = True\n",
        "        break\n",
        "    # checa se o processo morreu\n",
        "    if proc.poll() is not None:\n",
        "        break\n",
        "    time.sleep(0.6)\n",
        "\n",
        "if not ready:\n",
        "    print(\"❌ Não subiu a tempo. Logs do Streamlit:\")\n",
        "    try:\n",
        "        print(open(logfile, \"r\").read()[-4000:])\n",
        "    except Exception:\n",
        "        print(\"(sem logs)\")\n",
        "    raise SystemExit\n",
        "\n",
        "print(\"✅ Streamlit pronto na porta\", PORT)\n",
        "\n",
        "# abrir via proxy do Colab (use UMA das opções abaixo)\n",
        "from google.colab import output\n",
        "\n",
        "# 1) nova aba/janela\n",
        "output.serve_kernel_port_as_window(PORT)\n",
        "\n",
        "# 2) OU em iframe na própria célula:\n",
        "# output.serve_kernel_port_as_iframe(PORT)\n"
      ],
      "metadata": {
        "id": "fo-1vtTmXIq0",
        "outputId": "e6b8f012-615d-4a63-c5a9-8f1ea6b92024",
        "colab": {
          "base_uri": "https://localhost:8080/",
          "height": 139
        }
      },
      "id": "fo-1vtTmXIq0",
      "execution_count": 9,
      "outputs": [
        {
          "output_type": "stream",
          "name": "stdout",
          "text": [
            "[ok] streamlit já instalado\n",
            "[ok] requests já instalado\n",
            "⏳ Iniciando Streamlit… aguardando disponibilidade da porta.\n",
            "✅ Streamlit pronto na porta 8501\n",
            "\u001b[31mWarning: This function may stop working due to changes in browser security.\n",
            "Try `serve_kernel_port_as_iframe` instead. \u001b[0m\n"
          ]
        },
        {
          "output_type": "display_data",
          "data": {
            "text/plain": [
              "<IPython.core.display.Javascript object>"
            ],
            "application/javascript": [
              "(async (port, path, text, element) => {\n",
              "    if (!google.colab.kernel.accessAllowed) {\n",
              "      return;\n",
              "    }\n",
              "    element.appendChild(document.createTextNode(''));\n",
              "    const url = await google.colab.kernel.proxyPort(port);\n",
              "    const anchor = document.createElement('a');\n",
              "    anchor.href = new URL(path, url).toString();\n",
              "    anchor.target = '_blank';\n",
              "    anchor.setAttribute('data-href', url + path);\n",
              "    anchor.textContent = text;\n",
              "    element.appendChild(anchor);\n",
              "  })(8501, \"/\", \"https://localhost:8501/\", window.element)"
            ]
          },
          "metadata": {}
        }
      ]
    }
  ],
  "metadata": {
    "colab": {
      "provenance": []
    },
    "language_info": {
      "name": "python"
    },
    "kernelspec": {
      "name": "python3",
      "display_name": "Python 3"
    }
  },
  "nbformat": 4,
  "nbformat_minor": 5
}